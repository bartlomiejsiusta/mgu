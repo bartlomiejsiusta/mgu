{
  "nbformat": 4,
  "nbformat_minor": 0,
  "metadata": {
    "colab": {
      "name": "Resnet2.ipynb",
      "provenance": [],
      "collapsed_sections": []
    },
    "kernelspec": {
      "name": "python3",
      "display_name": "Python 3"
    },
    "language_info": {
      "name": "python"
    }
  },
  "cells": [
    {
      "cell_type": "markdown",
      "source": [
        "# Resnet\n",
        "\n",
        "Architektura oparta schematach z https://arxiv.org/pdf/1512.03385v1.pdf"
      ],
      "metadata": {
        "id": "SvI6aLdlVhLX"
      }
    },
    {
      "cell_type": "code",
      "execution_count": 1,
      "metadata": {
        "colab": {
          "base_uri": "https://localhost:8080/"
        },
        "id": "PECInoUHAxWs",
        "outputId": "a8da24a1-f9c7-4d47-8f5d-99f6f73bfacc"
      },
      "outputs": [
        {
          "output_type": "stream",
          "name": "stdout",
          "text": [
            "Downloading data from https://www.cs.toronto.edu/~kriz/cifar-10-python.tar.gz\n",
            "170500096/170498071 [==============================] - 11s 0us/step\n",
            "170508288/170498071 [==============================] - 11s 0us/step\n",
            "(50000, 32, 32, 3)\n",
            "(50000, 1)\n",
            "(10000, 32, 32, 3)\n",
            "(10000, 1)\n",
            "[3]\n",
            "################\n",
            "(50000, 32, 32, 3)\n",
            "(50000, 10)\n",
            "(10000, 32, 32, 3)\n",
            "(10000, 10)\n",
            "[0. 0. 0. 1. 0. 0. 0. 0. 0. 0.]\n"
          ]
        }
      ],
      "source": [
        "from tensorflow.keras.models import Sequential\n",
        "from tensorflow.keras.layers import Input, ZeroPadding2D, Dense, BatchNormalization, Add, Activation, Dropout, Conv2D, MaxPooling2D, Flatten, AveragePooling2D\n",
        "import tensorflow as tf\n",
        "from tensorflow import keras\n",
        "from tensorflow.keras.utils import to_categorical\n",
        "\n",
        "# CIFAR\n",
        "(training_images, training_labels) , (validation_images, validation_labels) = tf.keras.datasets.cifar10.load_data()\n",
        "\n",
        "print(training_images.shape)\n",
        "print(training_labels.shape)\n",
        "print(validation_images.shape)\n",
        "print(validation_labels.shape)\n",
        "\n",
        "print(validation_labels[0])\n",
        "\n",
        "print(\"################\")\n",
        "\n",
        "# Przekształcenie etykiet na takie, które będą pasowały do modelu\n",
        "training_labels = to_categorical(training_labels, 10)\n",
        "validation_labels = to_categorical(validation_labels, 10)\n",
        "\n",
        "print(training_images.shape)\n",
        "print(training_labels.shape)\n",
        "print(validation_images.shape)\n",
        "print(validation_labels.shape)\n",
        "\n",
        "print(validation_labels[0])"
      ]
    },
    {
      "cell_type": "code",
      "source": [
        "def residual_connection(base_model, filters, custom_stride = None):\n",
        "\n",
        "  model = base_model\n",
        "\n",
        "  if custom_stride is None:\n",
        "    strides = (1,1)\n",
        "  else:\n",
        "    strides = (custom_stride, custom_stride)\n",
        "\n",
        "  model = Conv2D(filters, kernel_size=(3,3), strides = strides, padding=\"same\")(model)\n",
        "  model = Conv2D(filters, kernel_size=(3,3), strides = (1,1), padding=\"same\")(model)\n",
        "\n",
        "  base_model = Conv2D(filters, kernel_size=(1,1), strides = strides)(base_model)\n",
        "\n",
        "  model = Add()([model, base_model])\n",
        "\n",
        "  return model\n",
        "\n",
        "model_input = Input((32,32,3))\n",
        "\n",
        "model = Conv2D(32, kernel_size=(7,7), strides = (2, 2))(model_input)\n",
        "model = MaxPooling2D((3,3), strides=(2,2))(model)\n",
        "\n",
        "model = residual_connection(model, filters = 16, custom_stride = None)\n",
        "model = residual_connection(model, filters = 16, custom_stride = None)\n",
        "model = residual_connection(model, filters = 16, custom_stride = None)\n",
        "model = residual_connection(model, filters = 32, custom_stride = 2)\n",
        "model = residual_connection(model, filters = 32, custom_stride = None)\n",
        "model = residual_connection(model, filters = 64, custom_stride = None)\n",
        "model = residual_connection(model, filters = 64, custom_stride = None)\n",
        "# model = residual_connection(model, filters = 256, custom_stride = 2)\n",
        "# model = residual_connection(model, filters = 256, custom_stride = None)\n",
        "# model = residual_connection(model, filters = 256, custom_stride = None)\n",
        "# model = residual_connection(model, filters = 256, custom_stride = None)\n",
        "# model = residual_connection(model, filters = 256, custom_stride = None)\n",
        "# model = residual_connection(model, filters = 256, custom_stride = None)\n",
        "# model = residual_connection(model, filters = 512, custom_stride = 2)\n",
        "# model = residual_connection(model, filters = 512, custom_stride = None)\n",
        "# model = residual_connection(model, filters = 512, custom_stride = None)\n",
        "\n",
        "model = AveragePooling2D(pool_size=(2,2))(model)\n",
        "model = Flatten()(model)\n",
        "model = Dense(10, activation='softmax')(model)\n",
        "\n",
        "model = keras.Model(inputs=model_input, outputs=model, name=\"resnet\")\n",
        "\n",
        "model.summary()\n"
      ],
      "metadata": {
        "colab": {
          "base_uri": "https://localhost:8080/"
        },
        "id": "KV5cqiteC8Lr",
        "outputId": "3cf6685c-ea91-4013-e9fd-45a0f7ca6373"
      },
      "execution_count": 8,
      "outputs": [
        {
          "output_type": "stream",
          "name": "stdout",
          "text": [
            "Model: \"resnet\"\n",
            "__________________________________________________________________________________________________\n",
            " Layer (type)                   Output Shape         Param #     Connected to                     \n",
            "==================================================================================================\n",
            " input_7 (InputLayer)           [(None, 32, 32, 3)]  0           []                               \n",
            "                                                                                                  \n",
            " conv2d_81 (Conv2D)             (None, 13, 13, 32)   4736        ['input_7[0][0]']                \n",
            "                                                                                                  \n",
            " max_pooling2d_5 (MaxPooling2D)  (None, 6, 6, 32)    0           ['conv2d_81[0][0]']              \n",
            "                                                                                                  \n",
            " conv2d_82 (Conv2D)             (None, 6, 6, 16)     4624        ['max_pooling2d_5[0][0]']        \n",
            "                                                                                                  \n",
            " conv2d_83 (Conv2D)             (None, 6, 6, 16)     2320        ['conv2d_82[0][0]']              \n",
            "                                                                                                  \n",
            " conv2d_84 (Conv2D)             (None, 6, 6, 16)     528         ['max_pooling2d_5[0][0]']        \n",
            "                                                                                                  \n",
            " add_25 (Add)                   (None, 6, 6, 16)     0           ['conv2d_83[0][0]',              \n",
            "                                                                  'conv2d_84[0][0]']              \n",
            "                                                                                                  \n",
            " conv2d_85 (Conv2D)             (None, 6, 6, 16)     2320        ['add_25[0][0]']                 \n",
            "                                                                                                  \n",
            " conv2d_86 (Conv2D)             (None, 6, 6, 16)     2320        ['conv2d_85[0][0]']              \n",
            "                                                                                                  \n",
            " conv2d_87 (Conv2D)             (None, 6, 6, 16)     272         ['add_25[0][0]']                 \n",
            "                                                                                                  \n",
            " add_26 (Add)                   (None, 6, 6, 16)     0           ['conv2d_86[0][0]',              \n",
            "                                                                  'conv2d_87[0][0]']              \n",
            "                                                                                                  \n",
            " conv2d_88 (Conv2D)             (None, 6, 6, 16)     2320        ['add_26[0][0]']                 \n",
            "                                                                                                  \n",
            " conv2d_89 (Conv2D)             (None, 6, 6, 16)     2320        ['conv2d_88[0][0]']              \n",
            "                                                                                                  \n",
            " conv2d_90 (Conv2D)             (None, 6, 6, 16)     272         ['add_26[0][0]']                 \n",
            "                                                                                                  \n",
            " add_27 (Add)                   (None, 6, 6, 16)     0           ['conv2d_89[0][0]',              \n",
            "                                                                  'conv2d_90[0][0]']              \n",
            "                                                                                                  \n",
            " conv2d_91 (Conv2D)             (None, 3, 3, 32)     4640        ['add_27[0][0]']                 \n",
            "                                                                                                  \n",
            " conv2d_92 (Conv2D)             (None, 3, 3, 32)     9248        ['conv2d_91[0][0]']              \n",
            "                                                                                                  \n",
            " conv2d_93 (Conv2D)             (None, 3, 3, 32)     544         ['add_27[0][0]']                 \n",
            "                                                                                                  \n",
            " add_28 (Add)                   (None, 3, 3, 32)     0           ['conv2d_92[0][0]',              \n",
            "                                                                  'conv2d_93[0][0]']              \n",
            "                                                                                                  \n",
            " conv2d_94 (Conv2D)             (None, 3, 3, 32)     9248        ['add_28[0][0]']                 \n",
            "                                                                                                  \n",
            " conv2d_95 (Conv2D)             (None, 3, 3, 32)     9248        ['conv2d_94[0][0]']              \n",
            "                                                                                                  \n",
            " conv2d_96 (Conv2D)             (None, 3, 3, 32)     1056        ['add_28[0][0]']                 \n",
            "                                                                                                  \n",
            " add_29 (Add)                   (None, 3, 3, 32)     0           ['conv2d_95[0][0]',              \n",
            "                                                                  'conv2d_96[0][0]']              \n",
            "                                                                                                  \n",
            " conv2d_97 (Conv2D)             (None, 3, 3, 64)     18496       ['add_29[0][0]']                 \n",
            "                                                                                                  \n",
            " conv2d_98 (Conv2D)             (None, 3, 3, 64)     36928       ['conv2d_97[0][0]']              \n",
            "                                                                                                  \n",
            " conv2d_99 (Conv2D)             (None, 3, 3, 64)     2112        ['add_29[0][0]']                 \n",
            "                                                                                                  \n",
            " add_30 (Add)                   (None, 3, 3, 64)     0           ['conv2d_98[0][0]',              \n",
            "                                                                  'conv2d_99[0][0]']              \n",
            "                                                                                                  \n",
            " conv2d_100 (Conv2D)            (None, 3, 3, 64)     36928       ['add_30[0][0]']                 \n",
            "                                                                                                  \n",
            " conv2d_101 (Conv2D)            (None, 3, 3, 64)     36928       ['conv2d_100[0][0]']             \n",
            "                                                                                                  \n",
            " conv2d_102 (Conv2D)            (None, 3, 3, 64)     4160        ['add_30[0][0]']                 \n",
            "                                                                                                  \n",
            " add_31 (Add)                   (None, 3, 3, 64)     0           ['conv2d_101[0][0]',             \n",
            "                                                                  'conv2d_102[0][0]']             \n",
            "                                                                                                  \n",
            " average_pooling2d_1 (AveragePo  (None, 1, 1, 64)    0           ['add_31[0][0]']                 \n",
            " oling2D)                                                                                         \n",
            "                                                                                                  \n",
            " flatten (Flatten)              (None, 64)           0           ['average_pooling2d_1[0][0]']    \n",
            "                                                                                                  \n",
            " dense (Dense)                  (None, 10)           650         ['flatten[0][0]']                \n",
            "                                                                                                  \n",
            "==================================================================================================\n",
            "Total params: 192,218\n",
            "Trainable params: 192,218\n",
            "Non-trainable params: 0\n",
            "__________________________________________________________________________________________________\n"
          ]
        }
      ]
    },
    {
      "cell_type": "code",
      "source": [
        "model.compile(\n",
        "    loss=tf.keras.losses.categorical_crossentropy,\n",
        "    optimizer=tf.keras.optimizers.Adam(),\n",
        "    metrics=['accuracy']\n",
        ")\n",
        "\n",
        "history = model.fit(\n",
        "    x=training_images,\n",
        "    y=training_labels,\n",
        "    batch_size=64,\n",
        "    epochs=20,\n",
        "    validation_data=(validation_images, validation_labels)\n",
        ")"
      ],
      "metadata": {
        "colab": {
          "base_uri": "https://localhost:8080/"
        },
        "id": "HQNNGBMoOtfW",
        "outputId": "3c5bfccb-a1ca-41e4-fa9d-247eee3a93a9"
      },
      "execution_count": 9,
      "outputs": [
        {
          "output_type": "stream",
          "name": "stdout",
          "text": [
            "Epoch 1/20\n",
            "782/782 [==============================] - 66s 82ms/step - loss: 7.8176 - accuracy: 0.3346 - val_loss: 1.8319 - val_accuracy: 0.3998\n",
            "Epoch 2/20\n",
            "782/782 [==============================] - 58s 74ms/step - loss: 1.7265 - accuracy: 0.4192 - val_loss: 1.6824 - val_accuracy: 0.4247\n",
            "Epoch 3/20\n",
            "782/782 [==============================] - 59s 75ms/step - loss: 1.5660 - accuracy: 0.4618 - val_loss: 1.4790 - val_accuracy: 0.4954\n",
            "Epoch 4/20\n",
            "782/782 [==============================] - 60s 76ms/step - loss: 1.4639 - accuracy: 0.4938 - val_loss: 1.5232 - val_accuracy: 0.4728\n",
            "Epoch 5/20\n",
            "782/782 [==============================] - 61s 78ms/step - loss: 1.4209 - accuracy: 0.5066 - val_loss: 1.4238 - val_accuracy: 0.5026\n",
            "Epoch 6/20\n",
            "782/782 [==============================] - 62s 80ms/step - loss: 1.3700 - accuracy: 0.5240 - val_loss: 1.3254 - val_accuracy: 0.5370\n",
            "Epoch 7/20\n",
            "782/782 [==============================] - 59s 76ms/step - loss: 1.3388 - accuracy: 0.5358 - val_loss: 1.3576 - val_accuracy: 0.5250\n",
            "Epoch 8/20\n",
            "782/782 [==============================] - 60s 77ms/step - loss: 1.3126 - accuracy: 0.5453 - val_loss: 1.3237 - val_accuracy: 0.5414\n",
            "Epoch 9/20\n",
            "782/782 [==============================] - 61s 78ms/step - loss: 1.3005 - accuracy: 0.5509 - val_loss: 1.2709 - val_accuracy: 0.5659\n",
            "Epoch 10/20\n",
            "782/782 [==============================] - 63s 80ms/step - loss: 1.2933 - accuracy: 0.5529 - val_loss: 1.4872 - val_accuracy: 0.4893\n",
            "Epoch 11/20\n",
            "782/782 [==============================] - 62s 79ms/step - loss: 1.2789 - accuracy: 0.5581 - val_loss: 1.2852 - val_accuracy: 0.5534\n",
            "Epoch 12/20\n",
            "782/782 [==============================] - 65s 83ms/step - loss: 1.2593 - accuracy: 0.5649 - val_loss: 1.2510 - val_accuracy: 0.5655\n",
            "Epoch 13/20\n",
            "782/782 [==============================] - 62s 80ms/step - loss: 1.2612 - accuracy: 0.5641 - val_loss: 1.3007 - val_accuracy: 0.5465\n",
            "Epoch 14/20\n",
            "782/782 [==============================] - 63s 81ms/step - loss: 1.2545 - accuracy: 0.5662 - val_loss: 1.3201 - val_accuracy: 0.5404\n",
            "Epoch 15/20\n",
            "782/782 [==============================] - 62s 79ms/step - loss: 1.2359 - accuracy: 0.5744 - val_loss: 1.2942 - val_accuracy: 0.5536\n",
            "Epoch 16/20\n",
            "782/782 [==============================] - 62s 79ms/step - loss: 1.2244 - accuracy: 0.5768 - val_loss: 1.2653 - val_accuracy: 0.5634\n",
            "Epoch 17/20\n",
            "782/782 [==============================] - 65s 83ms/step - loss: 1.2198 - accuracy: 0.5803 - val_loss: 1.2323 - val_accuracy: 0.5804\n",
            "Epoch 18/20\n",
            "782/782 [==============================] - 65s 83ms/step - loss: 1.2001 - accuracy: 0.5870 - val_loss: 1.2469 - val_accuracy: 0.5751\n",
            "Epoch 19/20\n",
            "782/782 [==============================] - 60s 77ms/step - loss: 1.1930 - accuracy: 0.5907 - val_loss: 1.2496 - val_accuracy: 0.5591\n",
            "Epoch 20/20\n",
            "782/782 [==============================] - 59s 76ms/step - loss: 1.1778 - accuracy: 0.5951 - val_loss: 1.1830 - val_accuracy: 0.5896\n"
          ]
        }
      ]
    },
    {
      "cell_type": "code",
      "source": [
        "# ZAPISANIE MODELU\n",
        "\n",
        "from tensorflow.keras.models import model_from_json\n",
        "\n",
        "model_json = model.to_json()\n",
        "with open(\"./model.json\", \"w\") as json_file:\n",
        "  json_file.write(model_json)\n",
        "model.save_weights(\"./model.h5\")"
      ],
      "metadata": {
        "colab": {
          "base_uri": "https://localhost:8080/"
        },
        "id": "uN8xi58zO5GW",
        "outputId": "cb41b6a2-a82d-48a7-ab77-04cf2ccd4742"
      },
      "execution_count": 10,
      "outputs": [
        {
          "output_type": "stream",
          "name": "stderr",
          "text": [
            "/usr/local/lib/python3.7/dist-packages/keras/engine/functional.py:1410: CustomMaskWarning: Custom mask layers require a config and must override get_config. When loading, the custom mask layer must be passed to the custom_objects argument.\n",
            "  layer_config = serialize_layer_fn(layer)\n"
          ]
        }
      ]
    },
    {
      "cell_type": "code",
      "source": [
        "import matplotlib.pyplot as plt\n",
        "\n",
        "fig = plt.subplots(figsize=(12,10))\n",
        "plt.plot(history.history['loss'], color='b', label=\"Training loss\")\n",
        "plt.plot(history.history['val_loss'], color='r', label=\"validation loss\")\n",
        "plt.legend(loc='best', shadow=True)"
      ],
      "metadata": {
        "colab": {
          "base_uri": "https://localhost:8080/",
          "height": 609
        },
        "id": "WDzyGvd5O6kk",
        "outputId": "043422c5-a021-4cf6-8a7f-e770d55f13f9"
      },
      "execution_count": 11,
      "outputs": [
        {
          "output_type": "execute_result",
          "data": {
            "text/plain": [
              "<matplotlib.legend.Legend at 0x7fd10568ea50>"
            ]
          },
          "metadata": {},
          "execution_count": 11
        },
        {
          "output_type": "display_data",
          "data": {
            "image/png": "[encoded data removed]",
            "text/plain": [
              "<Figure size 864x720 with 1 Axes>"
            ]
          },
          "metadata": {
            "needs_background": "light"
          }
        }
      ]
    }
  ]
}