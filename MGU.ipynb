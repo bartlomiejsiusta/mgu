{
  "nbformat": 4,
  "nbformat_minor": 0,
  "metadata": {
    "colab": {
      "name": "MGU.ipynb",
      "provenance": [],
      "collapsed_sections": [],
      "authorship_tag": "ABX9TyOT3xdN5xejXANvLpmAy0PF",
      "include_colab_link": true
    },
    "kernelspec": {
      "name": "python3",
      "display_name": "Python 3"
    },
    "language_info": {
      "name": "python"
    },
    "accelerator": "GPU"
  },
  "cells": [
    {
      "cell_type": "markdown",
      "metadata": {
        "id": "view-in-github",
        "colab_type": "text"
      },
      "source": [
        "<a href=\"https://colab.research.google.com/github/bartlomiejsiusta/mgu/blob/main/MGU.ipynb\" target=\"_parent\"><img src=\"https://colab.research.google.com/assets/colab-badge.svg\" alt=\"Open In Colab\"/></a>"
      ]
    },
    {
      "cell_type": "code",
      "execution_count": 1,
      "metadata": {
        "colab": {
          "base_uri": "https://localhost:8080/"
        },
        "id": "89xHjXrlskik",
        "outputId": "9ba83d12-6c06-4076-a203-dc374176d649"
      },
      "outputs": [
        {
          "output_type": "stream",
          "name": "stdout",
          "text": [
            "Requirement already satisfied: foolbox==3.3.1 in /usr/local/lib/python3.7/dist-packages (3.3.1)\n",
            "Requirement already satisfied: requests>=2.24.0 in /usr/local/lib/python3.7/dist-packages (from foolbox==3.3.1) (2.27.1)\n",
            "Requirement already satisfied: eagerpy==0.29.0 in /usr/local/lib/python3.7/dist-packages (from foolbox==3.3.1) (0.29.0)\n",
            "Requirement already satisfied: scipy in /usr/local/lib/python3.7/dist-packages (from foolbox==3.3.1) (1.4.1)\n",
            "Requirement already satisfied: typing-extensions>=3.7.4.1 in /usr/local/lib/python3.7/dist-packages (from foolbox==3.3.1) (3.10.0.2)\n",
            "Requirement already satisfied: numpy in /usr/local/lib/python3.7/dist-packages (from foolbox==3.3.1) (1.19.5)\n",
            "Requirement already satisfied: GitPython>=3.0.7 in /usr/local/lib/python3.7/dist-packages (from foolbox==3.3.1) (3.1.26)\n",
            "Requirement already satisfied: setuptools in /usr/local/lib/python3.7/dist-packages (from foolbox==3.3.1) (57.4.0)\n",
            "Requirement already satisfied: gitdb<5,>=4.0.1 in /usr/local/lib/python3.7/dist-packages (from GitPython>=3.0.7->foolbox==3.3.1) (4.0.9)\n",
            "Requirement already satisfied: smmap<6,>=3.0.1 in /usr/local/lib/python3.7/dist-packages (from gitdb<5,>=4.0.1->GitPython>=3.0.7->foolbox==3.3.1) (5.0.0)\n",
            "Requirement already satisfied: idna<4,>=2.5 in /usr/local/lib/python3.7/dist-packages (from requests>=2.24.0->foolbox==3.3.1) (2.10)\n",
            "Requirement already satisfied: charset-normalizer~=2.0.0 in /usr/local/lib/python3.7/dist-packages (from requests>=2.24.0->foolbox==3.3.1) (2.0.10)\n",
            "Requirement already satisfied: urllib3<1.27,>=1.21.1 in /usr/local/lib/python3.7/dist-packages (from requests>=2.24.0->foolbox==3.3.1) (1.24.3)\n",
            "Requirement already satisfied: certifi>=2017.4.17 in /usr/local/lib/python3.7/dist-packages (from requests>=2.24.0->foolbox==3.3.1) (2021.10.8)\n"
          ]
        }
      ],
      "source": [
        "import tensorflow as tf\n",
        "import matplotlib.pyplot as plt\n",
        "import numpy as np\n",
        "import tensorflow.keras as keras\n",
        "!pip install foolbox==3.3.1\n",
        "import foolbox\n",
        "import eagerpy as ep\n"
      ]
    },
    {
      "cell_type": "markdown",
      "source": [
        ""
      ],
      "metadata": {
        "id": "IJetbs1JtIeN"
      }
    },
    {
      "cell_type": "code",
      "source": [
        "(x_train, y_train), (x_test, y_test) = tf.keras.datasets.cifar10.load_data()\n",
        "\n",
        "x_train.astype(np.float32)\n",
        "x_test.astype(np.float32)\n",
        "x_train = x_train/255.0\n",
        "x_test = x_test/255.0\n",
        "\n",
        "\n",
        "# dzielenie danych treningowych na treningowe i walidacyjne\n",
        "(x_train, x_valid) = x_train[5000:], x_train[:5000] \n",
        "(y_train, y_valid) = y_train[5000:], y_train[:5000]\n",
        "\n",
        "\n",
        "# one hot encoding\n",
        "y_train = keras.utils.to_categorical(y_train, 10)\n",
        "#y_test = keras.utils.to_categorical(y_test, 10)\n",
        "y_valid = keras.utils.to_categorical(y_valid, 10)\n",
        "#plt.imshow(x_train[2])\n",
        "\n",
        "\n",
        "print(\"x_train shape:\", x_train.shape, \"y_train shape:\", y_train.shape)\n",
        "print(\"x_valid shape:\", x_valid.shape, \"y_valid shape:\", y_valid.shape)\n",
        "print(\"x_test shape:\", x_test.shape, \"y_test shape:\", y_test.shape)\n"
      ],
      "metadata": {
        "colab": {
          "base_uri": "https://localhost:8080/"
        },
        "id": "T2_YwP3FtICs",
        "outputId": "8bf89e6e-d13c-475f-dec1-a32da33bf52a"
      },
      "execution_count": 2,
      "outputs": [
        {
          "output_type": "stream",
          "name": "stdout",
          "text": [
            "x_train shape: (45000, 32, 32, 3) y_train shape: (45000, 10)\n",
            "x_valid shape: (5000, 32, 32, 3) y_valid shape: (5000, 10)\n",
            "x_test shape: (10000, 32, 32, 3) y_test shape: (10000, 1)\n"
          ]
        }
      ]
    },
    {
      "cell_type": "code",
      "source": [
        "from keras.callbacks import ModelCheckpoint\n",
        "\n",
        "\n",
        "model = tf.keras.applications.ResNet50(weights=None, classes=10, input_shape=(32, 32, 3))\n",
        "model.compile(loss=tf.keras.losses.categorical_crossentropy, optimizer=tf.keras.optimizers.Adam(), metrics=['accuracy'])\n",
        "# model.summary()\n",
        "\n",
        "checkpointer = ModelCheckpoint(filepath='model.weights.best.hdf5', verbose = 1, save_best_only=True)\n",
        "model.fit(x_train, y_train, batch_size=256, epochs=2, verbose=1, validation_data=(x_valid, y_valid), callbacks=[checkpointer])\n",
        "\n"
      ],
      "metadata": {
        "colab": {
          "base_uri": "https://localhost:8080/"
        },
        "id": "H01AhLVcztWe",
        "outputId": "d4d7f412-4e10-4878-a372-459f3f8da708"
      },
      "execution_count": 3,
      "outputs": [
        {
          "output_type": "stream",
          "name": "stdout",
          "text": [
            "Epoch 1/2\n",
            "176/176 [==============================] - ETA: 0s - loss: 1.9963 - accuracy: 0.3455\n",
            "Epoch 00001: val_loss improved from inf to 3.26254, saving model to model.weights.best.hdf5\n"
          ]
        },
        {
          "output_type": "stream",
          "name": "stderr",
          "text": [
            "/usr/local/lib/python3.7/dist-packages/keras/engine/functional.py:1410: CustomMaskWarning: Custom mask layers require a config and must override get_config. When loading, the custom mask layer must be passed to the custom_objects argument.\n",
            "  layer_config = serialize_layer_fn(layer)\n"
          ]
        },
        {
          "output_type": "stream",
          "name": "stdout",
          "text": [
            "\b\b\b\b\b\b\b\b\b\b\b\b\b\b\b\b\b\b\b\b\b\b\b\b\b\b\b\b\b\b\b\b\b\b\b\b\b\b\b\b\b\b\b\b\b\b\b\b\b\b\b\b\b\b\b\b\b\b\b\b\b\b\b\b\b\b\b\b\b\b\b\b\b\b\b\b\b\b\b\b\b\b\b\b\r176/176 [==============================] - 63s 252ms/step - loss: 1.9963 - accuracy: 0.3455 - val_loss: 3.2625 - val_accuracy: 0.1212\n",
            "Epoch 2/2\n",
            "176/176 [==============================] - ETA: 0s - loss: 1.6541 - accuracy: 0.4182\n",
            "Epoch 00002: val_loss improved from 3.26254 to 2.93055, saving model to model.weights.best.hdf5\n",
            "176/176 [==============================] - 40s 226ms/step - loss: 1.6541 - accuracy: 0.4182 - val_loss: 2.9306 - val_accuracy: 0.2394\n"
          ]
        },
        {
          "output_type": "execute_result",
          "data": {
            "text/plain": [
              "<keras.callbacks.History at 0x7feec04342d0>"
            ]
          },
          "metadata": {},
          "execution_count": 3
        }
      ]
    },
    {
      "cell_type": "code",
      "source": [
        "# score = model.evaluate(x_test, y_test, verbose=1)\n",
        "# print('Test loss:', score[0])\n",
        "# print('Test accuracy:', score[1])\n",
        "\n",
        "\n",
        "#model.load_weights('model.weights.best.hdf5')\n",
        "pre_trained_model = tf.keras.models.load_model('model.weights.best.hdf5')\n",
        "\n",
        "foolbox_model = foolbox.models.TensorFlowModel(model = pre_trained_model,bounds = (0.0, 1.0))\n",
        "# FGSM\n",
        "attack_fgsm = foolbox.attacks.FGSM()\n",
        "epsilons = [\n",
        "        0.0,\n",
        "        0.0002,\n",
        "        0.0005,\n",
        "        0.0008,\n",
        "        0.001,\n",
        "        0.0015,\n",
        "        0.002,\n",
        "        0.003,\n",
        "        0.01,\n",
        "        0.1,\n",
        "        0.3,\n",
        "        0.5,\n",
        "        1.0,\n",
        "]\n",
        "\n",
        "images, labels = ep.astensors(*foolbox.samples(foolbox_model, dataset=\"cifar10\", batchsize=16)) # przyklad z githuba\n",
        "\n",
        "x_test = tf.convert_to_tensor(x_test, dtype=np.float32)\n",
        "y_test = tf.convert_to_tensor(y_test, dtype=np.int64)\n",
        "new_x_test, new_y_test = ep.astensors(x_test, y_test)\n",
        "\n",
        "clean_acc = foolbox.accuracy(foolbox_model, new_x_test, new_y_test)\n",
        "print(f\"clean accuracy:  {clean_acc * 100:.1f} %\")\n",
        "\n",
        "raw_advs, clipped_advs, success = attack_fgsm(foolbox_model, images, labels, epsilons=epsilons)\n",
        "\n",
        "print(success)\n",
        "# for i in range(1,3):\n",
        "#     image = new_x_test[i]\n",
        "#     _, advs, success = attack_fgsm(foolbox_model, image, new_y_test[i], epsilons=epsilons)\n",
        "#     plt.imshow(np.squeeze(x_test[i]))\n",
        "#     plt.show()\n",
        "#     plt.imshow(np.squeeze(adversarial))\n",
        "\n"
      ],
      "metadata": {
        "colab": {
          "base_uri": "https://localhost:8080/"
        },
        "id": "ARGJPaOy6FQh",
        "outputId": "e5a7d460-b25b-4cd3-a1e7-037ae873a94a"
      },
      "execution_count": 4,
      "outputs": [
        {
          "output_type": "stream",
          "name": "stdout",
          "text": [
            "WARNING:tensorflow:From /usr/local/lib/python3.7/dist-packages/foolbox/models/tensorflow.py:13: is_gpu_available (from tensorflow.python.framework.test_util) is deprecated and will be removed in a future version.\n",
            "Instructions for updating:\n",
            "Use `tf.config.list_physical_devices('GPU')` instead.\n",
            "clean accuracy:  10.0 %\n",
            "TensorFlowTensor(<tf.Tensor: shape=(13, 16), dtype=bool, numpy=\n",
            "                 array([[ True, False,  True,  True,  True,  True,  True,  True,  True,\n",
            "                          True,  True,  True,  True,  True,  True,  True],\n",
            "                        [ True, False,  True,  True,  True,  True,  True,  True,  True,\n",
            "                          True,  True,  True,  True,  True,  True,  True],\n",
            "                        [ True, False,  True,  True,  True,  True,  True,  True,  True,\n",
            "                          True,  True,  True,  True,  True,  True,  True],\n",
            "                        [ True, False,  True,  True,  True,  True,  True,  True,  True,\n",
            "                          True,  True,  True,  True,  True,  True,  True],\n",
            "                        [ True, False,  True,  True,  True,  True,  True,  True,  True,\n",
            "                          True,  True,  True,  True,  True,  True,  True],\n",
            "                        [ True, False,  True,  True,  True,  True,  True,  True,  True,\n",
            "                          True,  True,  True,  True,  True,  True,  True],\n",
            "                        [ True, False,  True,  True,  True,  True,  True,  True,  True,\n",
            "                          True,  True,  True,  True,  True,  True,  True],\n",
            "                        [ True, False,  True,  True,  True,  True,  True,  True,  True,\n",
            "                          True,  True,  True,  True,  True,  True,  True],\n",
            "                        [ True, False,  True,  True,  True,  True,  True,  True,  True,\n",
            "                          True,  True,  True,  True,  True,  True,  True],\n",
            "                        [ True,  True,  True,  True,  True,  True,  True,  True,  True,\n",
            "                          True,  True,  True,  True,  True,  True,  True],\n",
            "                        [ True,  True,  True,  True,  True,  True,  True,  True,  True,\n",
            "                          True,  True,  True,  True,  True,  True,  True],\n",
            "                        [ True,  True,  True,  True,  True,  True,  True,  True,  True,\n",
            "                          True,  True,  True,  True,  True,  True,  True],\n",
            "                        [ True,  True,  True,  True,  True,  True,  True,  True,  True,\n",
            "                          True,  True,  True,  True,  True,  True,  True]])>)\n"
          ]
        }
      ]
    },
    {
      "cell_type": "code",
      "source": [
        ""
      ],
      "metadata": {
        "colab": {
          "base_uri": "https://localhost:8080/"
        },
        "id": "GLSSURkJY8Av",
        "outputId": "19e98099-e4f0-4d6c-e221-5b7b637778d1"
      },
      "execution_count": 6,
      "outputs": [
        {
          "output_type": "stream",
          "name": "stdout",
          "text": [
            "(16,)\n"
          ]
        }
      ]
    }
  ]
}